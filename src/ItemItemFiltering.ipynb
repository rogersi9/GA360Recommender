{
 "cells": [
  {
   "cell_type": "code",
   "execution_count": 21,
   "id": "ef00a518-32f8-488f-aebf-e51b73c3173c",
   "metadata": {},
   "outputs": [
    {
     "name": "stdout",
     "output_type": "stream",
     "text": [
      "Requirement already satisfied: pandas in c:\\users\\melis\\appdata\\local\\programs\\python\\python311\\lib\\site-packages (2.1.2)\n",
      "Requirement already satisfied: numpy<2,>=1.23.2 in c:\\users\\melis\\appdata\\local\\programs\\python\\python311\\lib\\site-packages (from pandas) (1.26.1)\n",
      "Requirement already satisfied: python-dateutil>=2.8.2 in c:\\users\\melis\\appdata\\local\\programs\\python\\python311\\lib\\site-packages (from pandas) (2.8.2)\n",
      "Requirement already satisfied: pytz>=2020.1 in c:\\users\\melis\\appdata\\local\\programs\\python\\python311\\lib\\site-packages (from pandas) (2023.3.post1)\n",
      "Requirement already satisfied: tzdata>=2022.1 in c:\\users\\melis\\appdata\\local\\programs\\python\\python311\\lib\\site-packages (from pandas) (2023.3)\n",
      "Requirement already satisfied: six>=1.5 in c:\\users\\melis\\appdata\\local\\programs\\python\\python311\\lib\\site-packages (from python-dateutil>=2.8.2->pandas) (1.16.0)\n",
      "Note: you may need to restart the kernel to use updated packages.\n"
     ]
    }
   ],
   "source": [
    "pip install pandas"
   ]
  },
  {
   "cell_type": "code",
   "execution_count": 226,
   "id": "b9d4ed03-3050-4053-8bee-b70d894664a6",
   "metadata": {},
   "outputs": [],
   "source": [
    "import pandas as pd\n",
    "import math"
   ]
  },
  {
   "cell_type": "code",
   "execution_count": 33,
   "id": "64fbb141-26c4-49dc-8805-b628bc007b3a",
   "metadata": {},
   "outputs": [],
   "source": [
    "# flip the rows and columns in the csv (since I need item rows for item-item)\n",
    "\n",
    "transposed_csv = pd.read_csv('../data/utility.csv', header=None).T\n",
    "transposed_csv[0][0] = \"itemID\"\n",
    "transposed_csv.to_csv('../data/transposed_utility.csv', header=False, index=False)"
   ]
  },
  {
   "cell_type": "code",
   "execution_count": 34,
   "id": "5f33d7e6-2f18-4adb-8508-57b6b7442326",
   "metadata": {},
   "outputs": [],
   "source": [
    "from pyspark.sql import SparkSession, functions as F, Window\n",
    "from pyspark.sql.types import StructType, StructField, StringType, IntegerType\n",
    "\n",
    "# Initialize Spark session\n",
    "def init_spark():\n",
    "    return SparkSession \\\n",
    "        .builder \\\n",
    "        .appName(\"GA360RECOMMENDER\") \\\n",
    "        .getOrCreate()\n",
    "\n",
    "spark = init_spark()"
   ]
  },
  {
   "cell_type": "code",
   "execution_count": 191,
   "id": "747399ec-4453-4d60-b887-a86a3e68b469",
   "metadata": {},
   "outputs": [],
   "source": [
    "# import the utility matrix=\n",
    "df = spark.read.csv(\"../data/transposed_utility.csv\", header=True)"
   ]
  },
  {
   "cell_type": "code",
   "execution_count": 192,
   "id": "1ec3c80b-bb57-4750-b105-7cf946057635",
   "metadata": {
    "scrolled": true
   },
   "outputs": [
    {
     "name": "stdin",
     "output_type": "stream",
     "text": [
      "Enter the user ID:  8807566194592989592\n",
      "Enter the item ID:  GGOEA0CH077599\n"
     ]
    }
   ],
   "source": [
    "userID = input(\"Enter the user ID: \") \n",
    "itemID = input(\"Enter the item ID: \") "
   ]
  },
  {
   "cell_type": "code",
   "execution_count": 193,
   "id": "98989b37-0b5e-4e62-8d4a-f5041a1dcc0d",
   "metadata": {},
   "outputs": [],
   "source": [
    "# switch the df into an rdd where each element is an item\n",
    "item_rdd = df.rdd"
   ]
  },
  {
   "cell_type": "code",
   "execution_count": 194,
   "id": "a669586b-1263-4979-9516-3932a77e100b",
   "metadata": {},
   "outputs": [],
   "source": [
    "# this function will execute for each item to find its average\n",
    "def calculate_avg(row):\n",
    "    # Extract values from the row\n",
    "    item_id = row.itemID\n",
    "    item_ratings = [row[key] for key in row.__fields__ if key != \"itemID\" and row[key] is not None]\n",
    "\n",
    "    total = 0\n",
    "    if len(item_ratings) > 0:\n",
    "        for r in item_ratings:\n",
    "            total = total + float(r)\n",
    "        avg = total/len(item_ratings)\n",
    "    else:\n",
    "        avg = None\n",
    "        \n",
    "    # Create a new Row with itemId and userAverage\n",
    "    return (item_id, avg)"
   ]
  },
  {
   "cell_type": "code",
   "execution_count": 196,
   "id": "b550c812-a21a-4f88-aacc-e05a2e5fbe2f",
   "metadata": {
    "scrolled": true
   },
   "outputs": [],
   "source": [
    "# get the average rating for each item\n",
    "average_ratings = item_rdd.map(calculate_avg)"
   ]
  },
  {
   "cell_type": "code",
   "execution_count": 210,
   "id": "61397508-4247-4f86-ba0c-729754d64429",
   "metadata": {},
   "outputs": [],
   "source": [
    "# get info on the target item\n",
    "item_average = average_ratings.lookup(itemID)[0]\n",
    "item_row = item_rdd.filter(lambda x: x['itemID'] == itemID).collect()[0]"
   ]
  },
  {
   "cell_type": "code",
   "execution_count": 227,
   "id": "f4be66bb-7d0f-4426-ae2b-07414ca51e97",
   "metadata": {},
   "outputs": [
    {
     "name": "stdout",
     "output_type": "stream",
     "text": [
      "1.0000000000000002\n"
     ]
    }
   ],
   "source": [
    "# use Pearson correlation coefficient to define similarity between two items\n",
    "def pearson_correlation(row, average_ratings):\n",
    "    rowx = item_row\n",
    "    rowy = row\n",
    "\n",
    "    sumProdDiffXY = 0\n",
    "    sumDiffXSquared = 0\n",
    "    sumDiffYSquared = 0\n",
    "    item_average = average_ratings.lookup(rowx['itemID'])[0]\n",
    "    \n",
    "    # go through each user rating\n",
    "    for key in rowx.__fields__:\n",
    "        # only include the user rating if they rated both items\n",
    "        if rowx[key] is not None and rowy[key] is not None and key != 'itemID':\n",
    "            sumProdDiffXY += (float(rowx[key]) - float(item_average)) * (float(rowy[key]) - float(item_average))\n",
    "            sumDiffXSquared += (float(rowx[key]) - float(item_average)) ** 2\n",
    "            sumDiffYSquared += (float(rowy[key]) - float(item_average)) ** 2\n",
    "            \n",
    "    similarity = sumProdDiffXY / ( math.sqrt(sumDiffXSquared) * math.sqrt(sumDiffXSquared) )\n",
    "\n",
    "    return similarity\n",
    "    \n",
    "similarity = pearson_correlation(item_row, average_ratings)\n",
    "print(similarity)"
   ]
  },
  {
   "cell_type": "code",
   "execution_count": null,
   "id": "0d238598-9601-4343-999e-37fac37be70d",
   "metadata": {},
   "outputs": [],
   "source": []
  }
 ],
 "metadata": {
  "kernelspec": {
   "display_name": "Python 3 (ipykernel)",
   "language": "python",
   "name": "python3"
  },
  "language_info": {
   "codemirror_mode": {
    "name": "ipython",
    "version": 3
   },
   "file_extension": ".py",
   "mimetype": "text/x-python",
   "name": "python",
   "nbconvert_exporter": "python",
   "pygments_lexer": "ipython3",
   "version": "3.11.0"
  }
 },
 "nbformat": 4,
 "nbformat_minor": 5
}
