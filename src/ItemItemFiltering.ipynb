{
 "cells": [
  {
   "cell_type": "code",
   "execution_count": 21,
   "id": "ef00a518-32f8-488f-aebf-e51b73c3173c",
   "metadata": {},
   "outputs": [
    {
     "name": "stdout",
     "output_type": "stream",
     "text": [
      "Requirement already satisfied: pandas in c:\\users\\melis\\appdata\\local\\programs\\python\\python311\\lib\\site-packages (2.1.2)\n",
      "Requirement already satisfied: numpy<2,>=1.23.2 in c:\\users\\melis\\appdata\\local\\programs\\python\\python311\\lib\\site-packages (from pandas) (1.26.1)\n",
      "Requirement already satisfied: python-dateutil>=2.8.2 in c:\\users\\melis\\appdata\\local\\programs\\python\\python311\\lib\\site-packages (from pandas) (2.8.2)\n",
      "Requirement already satisfied: pytz>=2020.1 in c:\\users\\melis\\appdata\\local\\programs\\python\\python311\\lib\\site-packages (from pandas) (2023.3.post1)\n",
      "Requirement already satisfied: tzdata>=2022.1 in c:\\users\\melis\\appdata\\local\\programs\\python\\python311\\lib\\site-packages (from pandas) (2023.3)\n",
      "Requirement already satisfied: six>=1.5 in c:\\users\\melis\\appdata\\local\\programs\\python\\python311\\lib\\site-packages (from python-dateutil>=2.8.2->pandas) (1.16.0)\n",
      "Note: you may need to restart the kernel to use updated packages.\n"
     ]
    }
   ],
   "source": [
    "pip install pandas"
   ]
  },
  {
   "cell_type": "code",
   "execution_count": 226,
   "id": "b9d4ed03-3050-4053-8bee-b70d894664a6",
   "metadata": {},
   "outputs": [],
   "source": [
    "import pandas as pd\n",
    "import math"
   ]
  },
  {
   "cell_type": "code",
   "execution_count": 33,
   "id": "64fbb141-26c4-49dc-8805-b628bc007b3a",
   "metadata": {},
   "outputs": [],
   "source": [
    "# flip the rows and columns in the csv (since I need item rows for item-item)\n",
    "\n",
    "transposed_csv = pd.read_csv('../data/utility.csv', header=None).T\n",
    "transposed_csv[0][0] = \"itemID\"\n",
    "transposed_csv.to_csv('../data/transposed_utility.csv', header=False, index=False)"
   ]
  },
  {
   "cell_type": "code",
   "execution_count": 309,
   "id": "5f33d7e6-2f18-4adb-8508-57b6b7442326",
   "metadata": {},
   "outputs": [],
   "source": [
    "from pyspark.sql import SparkSession, functions as F, Window\n",
    "from pyspark.sql.types import StructType, StructField, StringType, IntegerType\n",
    "\n",
    "# Initialize Spark session\n",
    "def init_spark():\n",
    "    return SparkSession \\\n",
    "        .builder \\\n",
    "        .appName(\"GA360RECOMMENDER\") \\\n",
    "        .getOrCreate()\n",
    "\n",
    "spark = init_spark()"
   ]
  },
  {
   "cell_type": "code",
   "execution_count": 310,
   "id": "747399ec-4453-4d60-b887-a86a3e68b469",
   "metadata": {},
   "outputs": [],
   "source": [
    "# import the utility matrix\n",
    "df = spark.read.csv(\"../data/transposed_utility.csv\", header=True)"
   ]
  },
  {
   "cell_type": "code",
   "execution_count": 434,
   "id": "1ec3c80b-bb57-4750-b105-7cf946057635",
   "metadata": {
    "scrolled": true
   },
   "outputs": [
    {
     "name": "stdin",
     "output_type": "stream",
     "text": [
      "Enter the user ID:  1059770176518504832\n",
      "Enter the item ID:  GGOEGAAX0037\n"
     ]
    }
   ],
   "source": [
    "# choose which rating to predict\n",
    "userID = input(\"Enter the user ID: \") \n",
    "itemID = input(\"Enter the item ID: \") "
   ]
  },
  {
   "cell_type": "code",
   "execution_count": 467,
   "id": "98989b37-0b5e-4e62-8d4a-f5041a1dcc0d",
   "metadata": {},
   "outputs": [],
   "source": [
    "# switch the df into an rdd where each element is an item\n",
    "item_rdd = df.rdd"
   ]
  },
  {
   "cell_type": "code",
   "execution_count": 468,
   "id": "a669586b-1263-4979-9516-3932a77e100b",
   "metadata": {},
   "outputs": [],
   "source": [
    "# finds the average of a row\n",
    "def calculate_avg(row):\n",
    "    # Extract values from the row\n",
    "    item_id = row.itemID\n",
    "    item_ratings = [row[key] for key in row.__fields__ if key != \"itemID\" and row[key] is not None]\n",
    "\n",
    "    total = 0\n",
    "    if len(item_ratings) > 0:\n",
    "        for r in item_ratings:\n",
    "            total = total + float(r)\n",
    "        avg = total/len(item_ratings)\n",
    "    else:\n",
    "        avg = None\n",
    "        \n",
    "    # Create a new Row with itemId and userAverage\n",
    "    return (item_id, avg)"
   ]
  },
  {
   "cell_type": "code",
   "execution_count": 437,
   "id": "b550c812-a21a-4f88-aacc-e05a2e5fbe2f",
   "metadata": {
    "scrolled": true
   },
   "outputs": [],
   "source": [
    "# get the average rating for each item (convert to a dict because you can't map inside a map (for the similarity function))\n",
    "average_ratings = item_rdd.map(calculate_avg)\n",
    "average_ratings_dict = dict(average_ratings.collect())"
   ]
  },
  {
   "cell_type": "code",
   "execution_count": 469,
   "id": "61397508-4247-4f86-ba0c-729754d64429",
   "metadata": {},
   "outputs": [],
   "source": [
    "# target item info\n",
    "item_average = average_ratings.lookup(itemID)[0]\n",
    "item_row = item_rdd.filter(lambda x: x['itemID'] == itemID).collect()[0]"
   ]
  },
  {
   "cell_type": "code",
   "execution_count": 475,
   "id": "f4be66bb-7d0f-4426-ae2b-07414ca51e97",
   "metadata": {},
   "outputs": [],
   "source": [
    "# finds pearson similarity between the target item and a given item\n",
    "def pearson_correlation(row):\n",
    "    global item_row\n",
    "    rowx = item_row\n",
    "    rowy = row\n",
    "\n",
    "    sumProdDiffXY = 0\n",
    "    sumDiffXSquared = 0\n",
    "    sumDiffYSquared = 0\n",
    "    \n",
    "    global average_ratings_dict\n",
    "    global item_average\n",
    "    item_x_average = item_average\n",
    "    item_y_average = average_ratings_dict[str(rowy['itemID'])]\n",
    "    \n",
    "    # go through each user rating\n",
    "    for key in rowx.__fields__:\n",
    "        # only include the user rating if they rated both items\n",
    "        if rowx[key] is not None and rowy[key] is not None and key != 'itemID':\n",
    "            sumProdDiffXY += (float(rowx[key]) - float(item_x_average)) * (float(rowy[key]) - float(item_y_average))\n",
    "            sumDiffXSquared += (float(rowx[key]) - float(item_x_average)) ** 2\n",
    "            sumDiffYSquared += (float(rowy[key]) - float(item_y_average)) ** 2\n",
    "\n",
    "    denominator = math.sqrt(sumDiffXSquared) * math.sqrt(sumDiffYSquared)\n",
    "    if denominator != 0 and str(rowx['itemID']) != str(rowy['itemID']):\n",
    "        similarity = sumProdDiffXY / denominator\n",
    "    else:\n",
    "        similarity = None\n",
    "        \n",
    "    return similarity"
   ]
  },
  {
   "cell_type": "code",
   "execution_count": 476,
   "id": "0d238598-9601-4343-999e-37fac37be70d",
   "metadata": {},
   "outputs": [
    {
     "name": "stdout",
     "output_type": "stream",
     "text": [
      "('GGOEAXXX0808', 0.9953991070512546)\n",
      "('GGOEAXXX0812', -0.2016376055022974)\n",
      "('GGOEGAAX0037', 1.0)\n",
      "('GGOEGAAX0074', 1.0)\n",
      "('GGOEGAAX0105', 0.9096016435906541)\n",
      "('GGOEGAAX0106', 0.36278367408088186)\n",
      "('GGOEGAAX0313', 1.0)\n",
      "('GGOEGAAX0318', -1.0)\n",
      "('GGOEGAAX0320', -1.0)\n",
      "('GGOEGAAX0334', 1.0)\n",
      "('GGOEGAAX0338', -0.998122708791077)\n",
      "('GGOEGAAX0342', 1.0)\n",
      "('GGOEGAAX0353', 1.0)\n",
      "('GGOEGAAX0358', -1.0)\n",
      "('GGOEGAAX0569', 1.0)\n",
      "('GGOEGAAX0596', 1.0)\n",
      "('GGOEGAAX0617', -1.0)\n",
      "('GGOEGAAX0622', -1.0)\n",
      "('GGOEGAAX0625', -1.0)\n",
      "('GGOEGAAX0651', 1.0)\n",
      "('GGOEGAAX0661', -1.0)\n",
      "('GGOEGAAX0795', 1.0)\n",
      "('GGOEGBCR024399', 1.0)\n",
      "('GGOEGBJC014399', 1.0)\n",
      "('GGOEGBJC019999', -1.0)\n",
      "('GGOEGBJL013999', 0.9672963711485479)\n",
      "('GGOEGBMJ013399', -1.0)\n",
      "('GGOEGBPB021199', 0.0462805603263363)\n",
      "('GGOEGBRA037499', 1.0)\n",
      "('GGOEGBRB013899', -1.0)\n",
      "('GGOEGBRJ037399', 1.0)\n",
      "('GGOEGCBC074299', -1.0)\n",
      "('GGOEGDHQ015399', 1.0)\n",
      "('GGOEGEHQ071199', -1.0)\n",
      "('GGOEGESB015099', -1.0)\n",
      "('GGOEGESB015199', 1.0)\n",
      "('GGOEGESC014099', -0.8853586306295417)\n",
      "('GGOEGESQ016799', 0.9998913184127138)\n",
      "('GGOEGEVB070599', 1.0)\n",
      "('GGOEGFKA022299', 1.0)\n",
      "('GGOEGFKQ020399', 1.0)\n",
      "('GGOEGHPJ080310', 1.0)\n",
      "('GGOEGKWQ060910', -0.22027331753126952)\n",
      "('GGOEGKWR060810', -0.8314658360063946)\n",
      "('GGOEGXXX0806', 0.9998285151925085)\n",
      "('GGOEYHPB072210', 1.0)\n",
      "('GGOEYOCR077799', 1.0)\n"
     ]
    }
   ],
   "source": [
    "# get items by their similarity to the target item\n",
    "# format (itemId, similarity)\n",
    "all_similarities = item_rdd.map(lambda x: (x.itemID, pearson_correlation(x))).filter(lambda x: x[1] is not None)\n",
    "\n",
    "for i in all_similarities.collect():\n",
    "    print(i)   "
   ]
  },
  {
   "cell_type": "code",
   "execution_count": 477,
   "id": "c2b138fe-cbc4-401a-b1db-7a7b0d739643",
   "metadata": {},
   "outputs": [
    {
     "name": "stdout",
     "output_type": "stream",
     "text": [
      "['GGOEAHPA004110', 'GGOEGAAX0104', 'GGOEGAAX0596', 'GGOEGBRA037499']\n"
     ]
    }
   ],
   "source": [
    "# get a list of items the user has rated\n",
    "rated_items = item_rdd.filter(lambda x: x[userID] is not None).map(lambda row: row.itemID).collect()\n",
    "\n",
    "print(rated_items)"
   ]
  },
  {
   "cell_type": "code",
   "execution_count": 478,
   "id": "3c9a2882-6743-4cfe-ae9a-34e768c89e6b",
   "metadata": {},
   "outputs": [
    {
     "name": "stdout",
     "output_type": "stream",
     "text": [
      "('GGOEGAAX0596', 1.0)\n",
      "('GGOEGBRA037499', 1.0)\n"
     ]
    }
   ],
   "source": [
    "# get the N closest values that the user has rated\n",
    "N = 3\n",
    "filtered_similar_items = all_similarities.filter(lambda x: x[0] in rated_items) \\\n",
    "    .sortBy(lambda x: x[1], ascending=False)\n",
    "\n",
    "for i in filtered_similar_items.take(N):\n",
    "    print(i)"
   ]
  },
  {
   "cell_type": "code",
   "execution_count": 479,
   "id": "670a056e-7d72-4d06-a94b-2f45059713bc",
   "metadata": {},
   "outputs": [
    {
     "name": "stdout",
     "output_type": "stream",
     "text": [
      "-0.17200968074644152\n"
     ]
    }
   ],
   "source": [
    "# calculate the similarity using the N closest items\n",
    "\n",
    "sumSR = 0   # similarity of items i and j * user's rating on item j\n",
    "sumS = 0    # similarity of items i and j\n",
    "\n",
    "for item in filtered_similar_items.collect():\n",
    "    item_row = item_rdd.filter(lambda row: row.itemID == item[0]).collect()[0]\n",
    "    S = item[1]\n",
    "    R = item_row[userID]\n",
    "    sumSR += float(S)*float(R)\n",
    "    sumS += float(S)\n",
    "\n",
    "rating = sumSR/sumS\n",
    "\n",
    "print(rating)"
   ]
  },
  {
   "cell_type": "code",
   "execution_count": null,
   "id": "775a8bde-3b7f-4b31-b1a9-743c6eed5d3e",
   "metadata": {},
   "outputs": [],
   "source": []
  }
 ],
 "metadata": {
  "kernelspec": {
   "display_name": "Python 3 (ipykernel)",
   "language": "python",
   "name": "python3"
  },
  "language_info": {
   "codemirror_mode": {
    "name": "ipython",
    "version": 3
   },
   "file_extension": ".py",
   "mimetype": "text/x-python",
   "name": "python",
   "nbconvert_exporter": "python",
   "pygments_lexer": "ipython3",
   "version": "3.11.0"
  }
 },
 "nbformat": 4,
 "nbformat_minor": 5
}
