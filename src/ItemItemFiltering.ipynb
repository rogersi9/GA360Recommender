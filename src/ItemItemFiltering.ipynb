{
 "cells": [
  {
   "cell_type": "code",
   "execution_count": 21,
   "id": "ef00a518-32f8-488f-aebf-e51b73c3173c",
   "metadata": {},
   "outputs": [
    {
     "name": "stdout",
     "output_type": "stream",
     "text": [
      "Requirement already satisfied: pandas in c:\\users\\melis\\appdata\\local\\programs\\python\\python311\\lib\\site-packages (2.1.2)\n",
      "Requirement already satisfied: numpy<2,>=1.23.2 in c:\\users\\melis\\appdata\\local\\programs\\python\\python311\\lib\\site-packages (from pandas) (1.26.1)\n",
      "Requirement already satisfied: python-dateutil>=2.8.2 in c:\\users\\melis\\appdata\\local\\programs\\python\\python311\\lib\\site-packages (from pandas) (2.8.2)\n",
      "Requirement already satisfied: pytz>=2020.1 in c:\\users\\melis\\appdata\\local\\programs\\python\\python311\\lib\\site-packages (from pandas) (2023.3.post1)\n",
      "Requirement already satisfied: tzdata>=2022.1 in c:\\users\\melis\\appdata\\local\\programs\\python\\python311\\lib\\site-packages (from pandas) (2023.3)\n",
      "Requirement already satisfied: six>=1.5 in c:\\users\\melis\\appdata\\local\\programs\\python\\python311\\lib\\site-packages (from python-dateutil>=2.8.2->pandas) (1.16.0)\n",
      "Note: you may need to restart the kernel to use updated packages.\n"
     ]
    }
   ],
   "source": [
    "pip install pandas"
   ]
  },
  {
   "cell_type": "code",
   "execution_count": 226,
   "id": "b9d4ed03-3050-4053-8bee-b70d894664a6",
   "metadata": {},
   "outputs": [],
   "source": [
    "import pandas as pd\n",
    "import math"
   ]
  },
  {
   "cell_type": "code",
   "execution_count": 33,
   "id": "64fbb141-26c4-49dc-8805-b628bc007b3a",
   "metadata": {},
   "outputs": [],
   "source": [
    "# flip the rows and columns in the csv (since I need item rows for item-item)\n",
    "\n",
    "transposed_csv = pd.read_csv('../data/utility.csv', header=None).T\n",
    "transposed_csv[0][0] = \"itemID\"\n",
    "transposed_csv.to_csv('../data/transposed_utility.csv', header=False, index=False)"
   ]
  },
  {
   "cell_type": "code",
   "execution_count": 309,
   "id": "5f33d7e6-2f18-4adb-8508-57b6b7442326",
   "metadata": {},
   "outputs": [],
   "source": [
    "from pyspark.sql import SparkSession, functions as F, Window\n",
    "from pyspark.sql.types import StructType, StructField, StringType, IntegerType\n",
    "\n",
    "# Initialize Spark session\n",
    "def init_spark():\n",
    "    return SparkSession \\\n",
    "        .builder \\\n",
    "        .appName(\"GA360RECOMMENDER\") \\\n",
    "        .getOrCreate()\n",
    "\n",
    "spark = init_spark()"
   ]
  },
  {
   "cell_type": "code",
   "execution_count": 310,
   "id": "747399ec-4453-4d60-b887-a86a3e68b469",
   "metadata": {},
   "outputs": [],
   "source": [
    "# import the utility matrix\n",
    "df = spark.read.csv(\"../data/transposed_utility.csv\", header=True)"
   ]
  },
  {
   "cell_type": "code",
   "execution_count": 434,
   "id": "1ec3c80b-bb57-4750-b105-7cf946057635",
   "metadata": {
    "scrolled": true
   },
   "outputs": [
    {
     "name": "stdin",
     "output_type": "stream",
     "text": [
      "Enter the user ID:  1059770176518504832\n",
      "Enter the item ID:  GGOEGAAX0037\n"
     ]
    }
   ],
   "source": [
    "# choose which rating to predict\n",
    "userID = input(\"Enter the user ID: \") \n",
    "itemID = input(\"Enter the item ID: \") "
   ]
  },
  {
   "cell_type": "code",
   "execution_count": 467,
   "id": "98989b37-0b5e-4e62-8d4a-f5041a1dcc0d",
   "metadata": {},
   "outputs": [],
   "source": [
    "# switch the df into an rdd where each element is an item\n",
    "item_rdd = df.rdd"
   ]
  },
  {
   "cell_type": "code",
   "execution_count": 468,
   "id": "a669586b-1263-4979-9516-3932a77e100b",
   "metadata": {},
   "outputs": [],
   "source": [
    "# finds the average of a row\n",
    "def calculate_avg(row):\n",
    "    # Extract values from the row\n",
    "    item_id = row.itemID\n",
    "    item_ratings = [row[key] for key in row.__fields__ if key != \"itemID\" and row[key] is not None]\n",
    "\n",
    "    total = 0\n",
    "    if len(item_ratings) > 0:\n",
    "        for r in item_ratings:\n",
    "            total = total + float(r)\n",
    "        avg = total/len(item_ratings)\n",
    "    else:\n",
    "        avg = None\n",
    "        \n",
    "    # Create a new Row with itemId and userAverage\n",
    "    return (item_id, avg)"
   ]
  },
  {
   "cell_type": "code",
   "execution_count": 437,
   "id": "b550c812-a21a-4f88-aacc-e05a2e5fbe2f",
   "metadata": {
    "scrolled": true
   },
   "outputs": [],
   "source": [
    "# get the average rating for each item (convert to a dict because you can't map inside a map (for the similarity function))\n",
    "average_ratings = item_rdd.map(calculate_avg)\n",
    "average_ratings_dict = dict(average_ratings.collect())"
   ]
  },
  {
   "cell_type": "code",
   "execution_count": 469,
   "id": "61397508-4247-4f86-ba0c-729754d64429",
   "metadata": {},
   "outputs": [],
   "source": [
    "# target item info\n",
    "item_average = average_ratings.lookup(itemID)[0]\n",
    "item_row = item_rdd.filter(lambda x: x['itemID'] == itemID).collect()[0]"
   ]
  },
  {
   "cell_type": "code",
   "execution_count": 470,
   "id": "f4be66bb-7d0f-4426-ae2b-07414ca51e97",
   "metadata": {},
   "outputs": [],
   "source": [
    "# finds pearson similarity between the target item and a given item\n",
    "def pearson_correlation(row):\n",
    "    global item_row\n",
    "    rowx = item_row\n",
    "    rowy = row\n",
    "\n",
    "    sumProdDiffXY = 0\n",
    "    sumDiffXSquared = 0\n",
    "    sumDiffYSquared = 0\n",
    "    \n",
    "    global average_ratings_dict\n",
    "    global item_average\n",
    "    item_x_average = item_average\n",
    "    item_y_average = average_ratings_dict[str(rowy['itemID'])]\n",
    "    \n",
    "    # go through each user rating\n",
    "    for key in rowx.__fields__:\n",
    "        # only include the user rating if they rated both items\n",
    "        if rowx[key] is not None and rowy[key] is not None and key != 'itemID':\n",
    "            sumProdDiffXY += (float(rowx[key]) - float(item_x_average)) * (float(rowy[key]) - float(item_y_average))\n",
    "            sumDiffXSquared += (float(rowx[key]) - float(item_x_average)) ** 2\n",
    "            sumDiffYSquared += (float(rowy[key]) - float(item_y_average)) ** 2\n",
    "\n",
    "    denominator = math.sqrt(sumDiffXSquared) * math.sqrt(sumDiffXSquared)\n",
    "    if denominator != 0 and str(rowx['itemID']) != str(rowy['itemID']):\n",
    "        similarity = sumProdDiffXY / denominator\n",
    "    else:\n",
    "        similarity = None\n",
    "        \n",
    "    return similarity"
   ]
  },
  {
   "cell_type": "code",
   "execution_count": 440,
   "id": "0d238598-9601-4343-999e-37fac37be70d",
   "metadata": {},
   "outputs": [
    {
     "name": "stdout",
     "output_type": "stream",
     "text": [
      "('GGOEA0CH077599', None)\n",
      "('GGOEACCQ017299', None)\n",
      "('GGOEADHH055999', None)\n",
      "('GGOEADHH073999', None)\n",
      "('GGOEADWQ015699', None)\n",
      "('GGOEAFKQ020499', None)\n",
      "('GGOEAFKQ020599', None)\n",
      "('GGOEAHPA004110', None)\n",
      "('GGOEAHPJ074410', None)\n",
      "('GGOEAKDH019899', -0.5050991176807608)\n",
      "('GGOEAOCB077499', None)\n",
      "('GGOEAXXX0808', None)\n",
      "('GGOEAXXX0810', None)\n",
      "('GGOEAXXX0812', None)\n",
      "('GGOEGAAX0037', None)\n",
      "('GGOEGAAX0074', None)\n",
      "('GGOEGAAX0081', None)\n",
      "('GGOEGAAX0098', 0.0)\n",
      "('GGOEGAAX0104', 14.956170884422002)\n",
      "('GGOEGAAX0105', None)\n",
      "('GGOEGAAX0106', None)\n",
      "('GGOEGAAX0107', None)\n",
      "('GGOEGAAX0168', None)\n",
      "('GGOEGAAX0278', None)\n",
      "('GGOEGAAX0280', None)\n",
      "('GGOEGAAX0282', None)\n",
      "('GGOEGAAX0290', None)\n",
      "('GGOEGAAX0296', None)\n",
      "('GGOEGAAX0299', None)\n",
      "('GGOEGAAX0304', None)\n",
      "('GGOEGAAX0306', None)\n",
      "('GGOEGAAX0308', None)\n",
      "('GGOEGAAX0309', None)\n",
      "('GGOEGAAX0313', None)\n",
      "('GGOEGAAX0318', None)\n",
      "('GGOEGAAX0320', None)\n",
      "('GGOEGAAX0323', None)\n",
      "('GGOEGAAX0325', None)\n",
      "('GGOEGAAX0326', None)\n",
      "('GGOEGAAX0329', None)\n",
      "('GGOEGAAX0330', None)\n",
      "('GGOEGAAX0334', None)\n",
      "('GGOEGAAX0338', None)\n",
      "('GGOEGAAX0341', 0.05553406249781326)\n",
      "('GGOEGAAX0342', None)\n",
      "('GGOEGAAX0351', None)\n",
      "('GGOEGAAX0352', None)\n",
      "('GGOEGAAX0353', None)\n",
      "('GGOEGAAX0356', None)\n",
      "('GGOEGAAX0357', None)\n",
      "('GGOEGAAX0358', None)\n",
      "('GGOEGAAX0361', None)\n",
      "('GGOEGAAX0364', None)\n",
      "('GGOEGAAX0365', None)\n",
      "('GGOEGAAX0366', None)\n",
      "('GGOEGAAX0567', None)\n",
      "('GGOEGAAX0568', None)\n",
      "('GGOEGAAX0569', None)\n",
      "('GGOEGAAX0570', None)\n",
      "('GGOEGAAX0578', None)\n",
      "('GGOEGAAX0579', None)\n",
      "('GGOEGAAX0580', None)\n",
      "('GGOEGAAX0588', None)\n",
      "('GGOEGAAX0592', None)\n",
      "('GGOEGAAX0593', None)\n",
      "('GGOEGAAX0595', 0.0)\n",
      "('GGOEGAAX0596', None)\n",
      "('GGOEGAAX0602', None)\n",
      "('GGOEGAAX0604', None)\n",
      "('GGOEGAAX0606', None)\n",
      "('GGOEGAAX0607', None)\n",
      "('GGOEGAAX0610', None)\n",
      "('GGOEGAAX0617', None)\n",
      "('GGOEGAAX0618', None)\n",
      "('GGOEGAAX0619', None)\n",
      "('GGOEGAAX0620', None)\n",
      "('GGOEGAAX0622', None)\n",
      "('GGOEGAAX0625', None)\n",
      "('GGOEGAAX0626', None)\n",
      "('GGOEGAAX0651', None)\n",
      "('GGOEGAAX0655', None)\n",
      "('GGOEGAAX0661', None)\n",
      "('GGOEGAAX0671', None)\n",
      "('GGOEGAAX0680', None)\n",
      "('GGOEGAAX0682', None)\n",
      "('GGOEGAAX0686', None)\n",
      "('GGOEGAAX0690', None)\n",
      "('GGOEGAAX0731', None)\n",
      "('GGOEGAAX0733', None)\n",
      "('GGOEGAAX0761', None)\n",
      "('GGOEGAAX0781', None)\n",
      "('GGOEGAAX0795', None)\n",
      "('GGOEGBCR024399', None)\n",
      "('GGOEGBFC018799', None)\n",
      "('GGOEGBJC014399', 1.0220681138856973)\n",
      "('GGOEGBJC019999', None)\n",
      "('GGOEGBJL013999', None)\n",
      "('GGOEGBMC056599', None)\n",
      "('GGOEGBMJ013399', None)\n",
      "('GGOEGBPB021199', None)\n",
      "('GGOEGBPB082099', None)\n",
      "('GGOEGBRA037499', None)\n",
      "('GGOEGBRB013899', -0.5520219690623286)\n",
      "('GGOEGBRJ037299', None)\n",
      "('GGOEGBRJ037399', None)\n",
      "('GGOEGCBB074199', 0.14718755524129407)\n",
      "('GGOEGCBB074399', -0.3141200771907674)\n",
      "('GGOEGCBC074299', None)\n",
      "('GGOEGCBQ016499', 0.0)\n",
      "('GGOEGCKQ013199', None)\n",
      "('GGOEGCMB020932', None)\n",
      "('GGOEGCNB021099', 0.6559577256546135)\n",
      "('GGOEGDHC015299', None)\n",
      "('GGOEGDHC074099', None)\n",
      "('GGOEGDHQ015399', 1.4940190522649426)\n",
      "('GGOEGDHR082199', None)\n",
      "('GGOEGDWR015799', None)\n",
      "('GGOEGEHQ024099', None)\n",
      "('GGOEGEHQ071199', None)\n",
      "('GGOEGEHQ072499', None)\n",
      "('GGOEGEHQ072599', None)\n",
      "('GGOEGESB015099', -4.235608935160503)\n",
      "('GGOEGESB015199', None)\n",
      "('GGOEGESC014099', -0.7340462228354602)\n",
      "('GGOEGESQ016799', 7.955595973533193)\n",
      "('GGOEGETB023799', None)\n",
      "('GGOEGEVA022399', None)\n",
      "('GGOEGEVB070599', None)\n",
      "('GGOEGFAQ016699', None)\n",
      "('GGOEGFKA022299', 0.4747268521225827)\n",
      "('GGOEGFKQ020399', None)\n",
      "('GGOEGFKQ020799', None)\n",
      "('GGOEGFQB013799', None)\n",
      "('GGOEGFSR022099', -0.09787216224398755)\n",
      "('GGOEGFYQ016599', 0.07370065705623215)\n",
      "('GGOEGGCX056199', None)\n",
      "('GGOEGGCX056299', None)\n",
      "('GGOEGGOA017399', -0.24909315891815437)\n",
      "('GGOEGHPB003410', None)\n",
      "('GGOEGHPB071610', None)\n",
      "('GGOEGHPJ080310', None)\n",
      "('GGOEGHPL003214', None)\n",
      "('GGOEGKAA019299', None)\n",
      "('GGOEGKWQ060910', None)\n",
      "('GGOEGKWR060810', None)\n",
      "('GGOEGOAB021499', None)\n",
      "('GGOEGOAB022499', None)\n",
      "('GGOEGOAQ012899', None)\n",
      "('GGOEGOAQ018099', -0.27335440257350047)\n",
      "('GGOEGOAQ020099', None)\n",
      "('GGOEGOAR013099', None)\n",
      "('GGOEGOBC078699', None)\n",
      "('GGOEGOBG023599', -0.28747392610924527)\n",
      "('GGOEGOCB017499', None)\n",
      "('GGOEGOCC077299', 0.6394468996130653)\n",
      "('GGOEGOCC077999', None)\n",
      "('GGOEGOCD078399', 0.14691603323316238)\n",
      "('GGOEGOCL077699', None)\n",
      "('GGOEGOCR078499', None)\n",
      "('GGOEGODR017799', None)\n",
      "('GGOEGOFH020299', None)\n",
      "('GGOEGOLC013299', 0.06861783643883038)\n",
      "('GGOEGOLC014299', 0.25698426727947643)\n",
      "('GGOEGOXQ016399', None)\n",
      "('GGOEGPJC203399', 0.0)\n",
      "('GGOEGXXX0806', None)\n",
      "('GGOEWAEA083899', None)\n",
      "('GGOEWCKQ085457', None)\n",
      "('GGOEWEBB082699', 0.0)\n",
      "('GGOEYDHJ056099', None)\n",
      "('GGOEYFKQ020699', None)\n",
      "('GGOEYHPB072210', None)\n",
      "('GGOEYOCR077799', None)\n"
     ]
    }
   ],
   "source": [
    "# get all items by their similarity to the target item\n",
    "# format (itemId, similarity)\n",
    "all_similarities = item_rdd.map(lambda x: (x.itemID, pearson_correlation(x)))\n",
    "\n",
    "for i in all_similarities.collect():\n",
    "    print(i)   "
   ]
  },
  {
   "cell_type": "code",
   "execution_count": 451,
   "id": "c2b138fe-cbc4-401a-b1db-7a7b0d739643",
   "metadata": {},
   "outputs": [
    {
     "name": "stdout",
     "output_type": "stream",
     "text": [
      "['GGOEAHPA004110', 'GGOEGAAX0104', 'GGOEGAAX0596', 'GGOEGBRA037499']\n"
     ]
    }
   ],
   "source": [
    "# get a list of items the user has rated\n",
    "rated_items = item_rdd.filter(lambda x: x[userID] is not None).map(lambda row: row.itemID).collect()\n",
    "\n",
    "print(rated_items)"
   ]
  },
  {
   "cell_type": "code",
   "execution_count": 454,
   "id": "3c9a2882-6743-4cfe-ae9a-34e768c89e6b",
   "metadata": {},
   "outputs": [
    {
     "name": "stdout",
     "output_type": "stream",
     "text": [
      "('GGOEGAAX0104', 14.956170884422002)\n"
     ]
    }
   ],
   "source": [
    "# get the N closest values that the user has rated\n",
    "N = 3\n",
    "filtered_similar_items = all_similarities.filter(lambda x: x[1] is not None) \\\n",
    "    .filter(lambda x: x[0] in rated_items) \\\n",
    "    .sortBy(lambda x: x[1], ascending=False)\n",
    "\n",
    "for i in filtered_similar_items.collect():\n",
    "    print(i)"
   ]
  },
  {
   "cell_type": "code",
   "execution_count": 461,
   "id": "670a056e-7d72-4d06-a94b-2f45059713bc",
   "metadata": {},
   "outputs": [
    {
     "name": "stdout",
     "output_type": "stream",
     "text": [
      "-0.19552529357072876\n"
     ]
    }
   ],
   "source": [
    "# calculate the similarity using the N closest items\n",
    "\n",
    "sumSR = 0   # similarity of items i and j * user's rating on item j\n",
    "sumS = 0    # similarity of items i and j\n",
    "\n",
    "for item in filtered_similar_items.collect():\n",
    "    item_row = item_rdd.filter(lambda row: row.itemID == item[0]).collect()[0]\n",
    "    S = item[1]\n",
    "    R = item_row[userID]\n",
    "    sumSR += float(S)*float(R)\n",
    "    sumS += float(S)\n",
    "\n",
    "rating = sumSR/sumS\n",
    "\n",
    "print(rating)"
   ]
  },
  {
   "cell_type": "code",
   "execution_count": null,
   "id": "775a8bde-3b7f-4b31-b1a9-743c6eed5d3e",
   "metadata": {},
   "outputs": [],
   "source": []
  }
 ],
 "metadata": {
  "kernelspec": {
   "display_name": "Python 3 (ipykernel)",
   "language": "python",
   "name": "python3"
  },
  "language_info": {
   "codemirror_mode": {
    "name": "ipython",
    "version": 3
   },
   "file_extension": ".py",
   "mimetype": "text/x-python",
   "name": "python",
   "nbconvert_exporter": "python",
   "pygments_lexer": "ipython3",
   "version": "3.11.0"
  }
 },
 "nbformat": 4,
 "nbformat_minor": 5
}
