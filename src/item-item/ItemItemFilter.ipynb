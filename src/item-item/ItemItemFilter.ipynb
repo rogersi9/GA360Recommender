{
 "cells": [
  {
   "cell_type": "markdown",
   "id": "6b4b966e-8d69-42b2-bcd9-38d9ecb8451b",
   "metadata": {},
   "source": [
    "## Get a user's rating (time spent on website) on a certain item"
   ]
  },
  {
   "cell_type": "code",
   "execution_count": 51,
   "id": "ac60d488-17b3-4d30-aa30-b8b1b30fd107",
   "metadata": {},
   "outputs": [],
   "source": [
    "from pyspark.sql import SparkSession, functions as F, Window\n",
    "from pyspark.sql.types import StructType, StructField, StringType, IntegerType\n",
    "import pandas as pd\n",
    "import math"
   ]
  },
  {
   "cell_type": "markdown",
   "id": "87e99fac-f7f3-4bf6-80f2-8b1087a8d435",
   "metadata": {},
   "source": [
    "### define helper functions"
   ]
  },
  {
   "cell_type": "code",
   "execution_count": 52,
   "id": "bc07a274-902b-46b7-a6df-43e3e676e312",
   "metadata": {},
   "outputs": [],
   "source": [
    "# Initialize Spark session\n",
    "def init_spark():\n",
    "    return SparkSession \\\n",
    "        .builder \\\n",
    "        .appName(\"GA360RECOMMENDER\") \\\n",
    "        .getOrCreate()"
   ]
  },
  {
   "cell_type": "code",
   "execution_count": 53,
   "id": "7d2cb4ac-ebc1-48dc-af14-5c5c77498f94",
   "metadata": {},
   "outputs": [],
   "source": [
    "# finds the average of a row\n",
    "def calculate_avg(row):\n",
    "    # Extract values from the row\n",
    "    item_id = row.itemID\n",
    "    item_ratings = [row[key] for key in row.__fields__ if key != \"itemID\" and row[key] is not None]\n",
    "\n",
    "    total = 0\n",
    "    if len(item_ratings) > 0:\n",
    "        for r in item_ratings:\n",
    "            total = total + float(r)\n",
    "        avg = total/len(item_ratings)\n",
    "    else:\n",
    "        avg = None\n",
    "        \n",
    "    # Create a new Row with itemId and userAverage\n",
    "    return (item_id, avg)"
   ]
  },
  {
   "cell_type": "code",
   "execution_count": 57,
   "id": "ed8f9191-f377-432a-b7c6-bcf4e7d74774",
   "metadata": {},
   "outputs": [],
   "source": [
    "# finds pearson similarity between the target item and a given item\n",
    "def pearson_correlation(row):\n",
    "    global item_row\n",
    "    rowx = item_row\n",
    "    rowy = row\n",
    "\n",
    "    sumProdDiffXY = 0\n",
    "    sumDiffXSquared = 0\n",
    "    sumDiffYSquared = 0\n",
    "    \n",
    "    global average_ratings_dict\n",
    "    global item_average\n",
    "    item_x_average = item_average\n",
    "    item_y_average = average_ratings_dict[str(rowy['itemID'])]\n",
    "    \n",
    "    # go through each user rating\n",
    "    for key in rowx.__fields__:\n",
    "        # only include the user rating if they rated both items\n",
    "        if rowx[key] is not None and rowy[key] is not None and key != 'itemID':\n",
    "            sumProdDiffXY += (float(rowx[key]) - float(item_x_average)) * (float(rowy[key]) - float(item_y_average))\n",
    "            sumDiffXSquared += (float(rowx[key]) - float(item_x_average)) ** 2\n",
    "            sumDiffYSquared += (float(rowy[key]) - float(item_y_average)) ** 2\n",
    "\n",
    "    denominator = math.sqrt(sumDiffXSquared) * math.sqrt(sumDiffYSquared)\n",
    "    if denominator != 0 and str(rowx['itemID']) != str(rowy['itemID']):\n",
    "        similarity = sumProdDiffXY / denominator\n",
    "    else:\n",
    "        similarity = None\n",
    "\n",
    "    return similarity"
   ]
  },
  {
   "cell_type": "code",
   "execution_count": 92,
   "id": "832746fe-97eb-40ff-bdff-c7c4b8d7edbb",
   "metadata": {},
   "outputs": [],
   "source": [
    "# calculate the rating of an item given its similar items\n",
    "def calculate_rating(userID, similar_items, item_rdd):\n",
    "    \n",
    "    sumSR = 0   # (similarity of items i and j) * (user's rating on item j)\n",
    "    sumS = 0    # similarity of items i and j\n",
    "    \n",
    "    for item in similar_items:\n",
    "        item_row = item_rdd.filter(lambda row: row.itemID == item[0]).collect()[0]\n",
    "        S = item[1]\n",
    "        R = item_row[userID]\n",
    "        sumSR += float(S)*float(R)\n",
    "        sumS += float(S)\n",
    "    \n",
    "    rating = sumSR/sumS\n",
    "\n",
    "    return rating"
   ]
  },
  {
   "cell_type": "markdown",
   "id": "c19c0d9e-372b-424b-9dd1-cde5ef39b3d9",
   "metadata": {},
   "source": [
    "## filtering function"
   ]
  },
  {
   "cell_type": "code",
   "execution_count": 93,
   "id": "8d48bc36-4303-4103-af4a-674ba239b62b",
   "metadata": {},
   "outputs": [],
   "source": [
    "def itemItem_filter(userID, itemID):\n",
    "\n",
    "    # initialize some global variables (to be used for pearson similarity)\n",
    "    global average_ratings_dict\n",
    "    global item_average\n",
    "    global item_row\n",
    "\n",
    "    # get the utility matrix\n",
    "    spark = init_spark()\n",
    "    item_rdd = spark.read.csv(\"../../data/transposed_utility.csv\", header=True).rdd\n",
    "\n",
    "    # get the average rating for each item\n",
    "    average_ratings = item_rdd.map(calculate_avg)\n",
    "    average_ratings_dict = dict(average_ratings.collect())\n",
    "\n",
    "    # target item info\n",
    "    item_average = average_ratings.lookup(itemID)[0]\n",
    "    item_row = item_rdd.filter(lambda x: x['itemID'] == itemID).collect()[0]\n",
    "\n",
    "    # get items by their similarity to the target item\n",
    "    # format (itemId, similarity)\n",
    "    all_similarities = item_rdd.map(lambda x: (x.itemID, pearson_correlation(x))).filter(lambda x: x[1] is not None)\n",
    "\n",
    "    # get a list of items the user has rated\n",
    "    rated_items = item_rdd.filter(lambda x: x[userID] is not None).map(lambda row: row.itemID).collect()\n",
    "\n",
    "    # get the N closest items that the user has rated\n",
    "    N = 3\n",
    "    filtered_similar_items = all_similarities.filter(lambda x: x[0] in rated_items) \\\n",
    "        .sortBy(lambda x: x[1], ascending=False).take(N)\n",
    "\n",
    "    rating = calculate_rating(userID, filtered_similar_items, item_rdd)\n",
    "    \n",
    "    return rating\n"
   ]
  },
  {
   "cell_type": "code",
   "execution_count": 94,
   "id": "8fdde235-c839-404d-8863-68a872c89d7e",
   "metadata": {},
   "outputs": [
    {
     "name": "stdout",
     "output_type": "stream",
     "text": [
      "-0.17154096031163024\n"
     ]
    }
   ],
   "source": [
    "rating = itemItem_filter('1589021726696497303', 'GGOEGBRA037499')\n",
    "print(rating)"
   ]
  },
  {
   "cell_type": "code",
   "execution_count": null,
   "id": "b5da4b92-ceca-476c-a7d7-d9a701c4e665",
   "metadata": {},
   "outputs": [],
   "source": []
  }
 ],
 "metadata": {
  "kernelspec": {
   "display_name": "Python 3 (ipykernel)",
   "language": "python",
   "name": "python3"
  },
  "language_info": {
   "codemirror_mode": {
    "name": "ipython",
    "version": 3
   },
   "file_extension": ".py",
   "mimetype": "text/x-python",
   "name": "python",
   "nbconvert_exporter": "python",
   "pygments_lexer": "ipython3",
   "version": "3.11.0"
  }
 },
 "nbformat": 4,
 "nbformat_minor": 5
}
