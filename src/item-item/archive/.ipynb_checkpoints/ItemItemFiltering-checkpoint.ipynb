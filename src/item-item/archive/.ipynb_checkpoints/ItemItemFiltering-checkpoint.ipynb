{
 "cells": [
  {
   "cell_type": "code",
   "execution_count": 21,
   "id": "ef00a518-32f8-488f-aebf-e51b73c3173c",
   "metadata": {},
   "outputs": [
    {
     "name": "stdout",
     "output_type": "stream",
     "text": [
      "Requirement already satisfied: pandas in c:\\users\\melis\\appdata\\local\\programs\\python\\python311\\lib\\site-packages (2.1.2)\n",
      "Requirement already satisfied: numpy<2,>=1.23.2 in c:\\users\\melis\\appdata\\local\\programs\\python\\python311\\lib\\site-packages (from pandas) (1.26.1)\n",
      "Requirement already satisfied: python-dateutil>=2.8.2 in c:\\users\\melis\\appdata\\local\\programs\\python\\python311\\lib\\site-packages (from pandas) (2.8.2)\n",
      "Requirement already satisfied: pytz>=2020.1 in c:\\users\\melis\\appdata\\local\\programs\\python\\python311\\lib\\site-packages (from pandas) (2023.3.post1)\n",
      "Requirement already satisfied: tzdata>=2022.1 in c:\\users\\melis\\appdata\\local\\programs\\python\\python311\\lib\\site-packages (from pandas) (2023.3)\n",
      "Requirement already satisfied: six>=1.5 in c:\\users\\melis\\appdata\\local\\programs\\python\\python311\\lib\\site-packages (from python-dateutil>=2.8.2->pandas) (1.16.0)\n",
      "Note: you may need to restart the kernel to use updated packages.\n"
     ]
    }
   ],
   "source": [
    "pip install pandas"
   ]
  },
  {
   "cell_type": "code",
   "execution_count": 508,
   "id": "b9d4ed03-3050-4053-8bee-b70d894664a6",
   "metadata": {},
   "outputs": [],
   "source": [
    "import pandas as pd\n",
    "import math"
   ]
  },
  {
   "cell_type": "code",
   "execution_count": 509,
   "id": "64fbb141-26c4-49dc-8805-b628bc007b3a",
   "metadata": {},
   "outputs": [],
   "source": [
    "# flip the rows and columns in the csv (since I need item rows for item-item)\n",
    "\n",
    "transposed_csv = pd.read_csv('../data/utility.csv', header=None).T\n",
    "transposed_csv[0][0] = \"itemID\"\n",
    "transposed_csv.to_csv('../data/transposed_utility.csv', header=False, index=False)"
   ]
  },
  {
   "cell_type": "code",
   "execution_count": 510,
   "id": "5f33d7e6-2f18-4adb-8508-57b6b7442326",
   "metadata": {},
   "outputs": [],
   "source": [
    "from pyspark.sql import SparkSession, functions as F, Window\n",
    "from pyspark.sql.types import StructType, StructField, StringType, IntegerType\n",
    "\n",
    "# Initialize Spark session\n",
    "def init_spark():\n",
    "    return SparkSession \\\n",
    "        .builder \\\n",
    "        .appName(\"GA360RECOMMENDER\") \\\n",
    "        .getOrCreate()\n",
    "\n",
    "spark = init_spark()"
   ]
  },
  {
   "cell_type": "code",
   "execution_count": 511,
   "id": "747399ec-4453-4d60-b887-a86a3e68b469",
   "metadata": {},
   "outputs": [],
   "source": [
    "# import the utility matrix\n",
    "df = spark.read.csv(\"../data/transposed_utility.csv\", header=True)"
   ]
  },
  {
   "cell_type": "code",
   "execution_count": 512,
   "id": "1ec3c80b-bb57-4750-b105-7cf946057635",
   "metadata": {
    "scrolled": true
   },
   "outputs": [
    {
     "name": "stdin",
     "output_type": "stream",
     "text": [
      "Enter the user ID:  1059770176518504832\n",
      "Enter the item ID:  GGOEGAAX0104\n"
     ]
    }
   ],
   "source": [
    "# choose which rating to predict\n",
    "userID = input(\"Enter the user ID: \") \n",
    "itemID = input(\"Enter the item ID: \") "
   ]
  },
  {
   "cell_type": "code",
   "execution_count": 513,
   "id": "98989b37-0b5e-4e62-8d4a-f5041a1dcc0d",
   "metadata": {},
   "outputs": [],
   "source": [
    "# switch the df into an rdd where each element is an item\n",
    "item_rdd = df.rdd"
   ]
  },
  {
   "cell_type": "code",
   "execution_count": 516,
   "id": "a669586b-1263-4979-9516-3932a77e100b",
   "metadata": {},
   "outputs": [],
   "source": [
    "# finds the average of a row\n",
    "def calculate_avg(row):\n",
    "    # Extract values from the row\n",
    "    item_id = row.itemID\n",
    "    item_ratings = [row[key] for key in row.__fields__ if key != \"itemID\" and row[key] is not None]\n",
    "\n",
    "    total = 0\n",
    "    if len(item_ratings) > 0:\n",
    "        for r in item_ratings:\n",
    "            total = total + float(r)\n",
    "        avg = total/len(item_ratings)\n",
    "    else:\n",
    "        avg = None\n",
    "        \n",
    "    # Create a new Row with itemId and userAverage\n",
    "    return (item_id, avg)"
   ]
  },
  {
   "cell_type": "code",
   "execution_count": 517,
   "id": "b550c812-a21a-4f88-aacc-e05a2e5fbe2f",
   "metadata": {
    "scrolled": true
   },
   "outputs": [
    {
     "data": {
      "text/plain": [
       "[('GGOEA0CH077599', -0.15220056249771882),\n",
       " ('GGOEACCQ017299', -0.18318763678019928),\n",
       " ('GGOEADHH055999', 0.04092047388905796),\n",
       " ('GGOEADHH073999', -0.07471663448399984),\n",
       " ('GGOEADWQ015699', -0.16338988814673905),\n",
       " ('GGOEAFKQ020499', -0.16773925325385858),\n",
       " ('GGOEAFKQ020599', -0.13017396321512692),\n",
       " ('GGOEAHPA004110', -0.19546682126366466),\n",
       " ('GGOEAHPJ074410', -0.16957333461876983),\n",
       " ('GGOEAKDH019899', -0.16247057354123093),\n",
       " ('GGOEAOCB077499', -0.1649269518481746),\n",
       " ('GGOEAXXX0808', 0.41492802852482025),\n",
       " ('GGOEAXXX0810', -0.1955252935707288),\n",
       " ('GGOEAXXX0812', -0.16295946699751707),\n",
       " ('GGOEGAAX0037', 0.007569128718516085),\n",
       " ('GGOEGAAX0074', -0.1046544557008297),\n",
       " ('GGOEGAAX0081', -0.07038805953050313),\n",
       " ('GGOEGAAX0098', -0.184162175231268),\n",
       " ('GGOEGAAX0104', 0.1620775304720439),\n",
       " ('GGOEGAAX0105', -0.16334603391644098),\n",
       " ('GGOEGAAX0106', -0.13585917690404886),\n",
       " ('GGOEGAAX0107', -0.19553503895523947),\n",
       " ('GGOEGAAX0168', -0.1778666568373643),\n",
       " ('GGOEGAAX0278', -0.17392627303354327),\n",
       " ('GGOEGAAX0280', -0.1955252935707288),\n",
       " ('GGOEGAAX0282', -0.012779843226329876),\n",
       " ('GGOEGAAX0290', -0.017041824719003562),\n",
       " ('GGOEGAAX0296', -0.1955252935707288),\n",
       " ('GGOEGAAX0299', -0.11733807364148857),\n",
       " ('GGOEGAAX0304', -0.1378423626519736),\n",
       " ('GGOEGAAX0306', -0.06821646301537174),\n",
       " ('GGOEGAAX0308', 0.001726161617827418),\n",
       " ('GGOEGAAX0309', -0.10286617764311867),\n",
       " ('GGOEGAAX0313', -0.0971310188585795),\n",
       " ('GGOEGAAX0318', -0.14329446231367965),\n",
       " ('GGOEGAAX0320', -0.13010940004274363),\n",
       " ('GGOEGAAX0323', -0.10493219915938427),\n",
       " ('GGOEGAAX0325', 1.384500984699294),\n",
       " ('GGOEGAAX0326', -0.08033484865441079),\n",
       " ('GGOEGAAX0329', -0.19553016626298414),\n",
       " ('GGOEGAAX0330', -0.14561917949150166),\n",
       " ('GGOEGAAX0334', 0.04803866515873879),\n",
       " ('GGOEGAAX0338', -0.11233436010550148),\n",
       " ('GGOEGAAX0341', -0.18424663523036058),\n",
       " ('GGOEGAAX0342', -0.13215593078998786),\n",
       " ('GGOEGAAX0351', -0.11965886735281929),\n",
       " ('GGOEGAAX0352', -0.15329854248592287),\n",
       " ('GGOEGAAX0353', -0.15199655911529514),\n",
       " ('GGOEGAAX0356', 0.9992393566704518),\n",
       " ('GGOEGAAX0357', -0.1345630407641275),\n",
       " ('GGOEGAAX0358', -0.08039686473766061),\n",
       " ('GGOEGAAX0361', -0.18094863468886901),\n",
       " ('GGOEGAAX0364', -0.18651081289834348),\n",
       " ('GGOEGAAX0365', -0.19549605741719672),\n",
       " ('GGOEGAAX0366', -0.1608999424042586),\n",
       " ('GGOEGAAX0567', -0.017813334326099606),\n",
       " ('GGOEGAAX0568', -0.026312933850170278),\n",
       " ('GGOEGAAX0569', 0.0184521650535192),\n",
       " ('GGOEGAAX0570', -0.19553503895523947),\n",
       " ('GGOEGAAX0578', 0.043031973866373426),\n",
       " ('GGOEGAAX0579', -0.11668513287927255),\n",
       " ('GGOEGAAX0580', -0.016702360491881313),\n",
       " ('GGOEGAAX0588', -0.14231549414237885),\n",
       " ('GGOEGAAX0592', -0.16622579503934892),\n",
       " ('GGOEGAAX0593', -0.17008009461332554),\n",
       " ('GGOEGAAX0595', -0.1048347453142774),\n",
       " ('GGOEGAAX0596', -0.15101812251042215),\n",
       " ('GGOEGAAX0602', -0.1488790106103264),\n",
       " ('GGOEGAAX0604', -0.18065383680742073),\n",
       " ('GGOEGAAX0606', -0.1792017745153284),\n",
       " ('GGOEGAAX0607', 0.01717746875952135),\n",
       " ('GGOEGAAX0610', -0.19553503895523947),\n",
       " ('GGOEGAAX0617', -0.058870639269623104),\n",
       " ('GGOEGAAX0618', -0.15155411865850993),\n",
       " ('GGOEGAAX0619', -0.011844286313303943),\n",
       " ('GGOEGAAX0620', 0.0510329345496473),\n",
       " ('GGOEGAAX0622', -0.15949173434246433),\n",
       " ('GGOEGAAX0625', -0.1364828815127328),\n",
       " ('GGOEGAAX0626', -0.1955252935707288),\n",
       " ('GGOEGAAX0651', -0.0847378133763391),\n",
       " ('GGOEGAAX0655', -0.037221267579132376),\n",
       " ('GGOEGAAX0661', -0.16719383656741046),\n",
       " ('GGOEGAAX0671', -0.036466974818005225),\n",
       " ('GGOEGAAX0680', 0.5555190060528674),\n",
       " ('GGOEGAAX0682', -0.09621008002231958),\n",
       " ('GGOEGAAX0686', 8.731061755912679),\n",
       " ('GGOEGAAX0690', -0.1253260404787482),\n",
       " ('GGOEGAAX0731', -0.1547038269323639),\n",
       " ('GGOEGAAX0733', -0.07745996022375819),\n",
       " ('GGOEGAAX0761', -0.1528843636442187),\n",
       " ('GGOEGAAX0781', -0.09489445311337687),\n",
       " ('GGOEGAAX0795', -0.15585548774691432),\n",
       " ('GGOEGBCR024399', -0.15582844430489717),\n",
       " ('GGOEGBFC018799', -0.09922140383612181),\n",
       " ('GGOEGBJC014399', -0.028027715466363217),\n",
       " ('GGOEGBJC019999', -0.1473847183186878),\n",
       " ('GGOEGBJL013999', -0.14731209200078668),\n",
       " ('GGOEGBMC056599', 1.481431236874724),\n",
       " ('GGOEGBMJ013399', -0.11817008584408847),\n",
       " ('GGOEGBPB021199', -0.12193627089978094),\n",
       " ('GGOEGBPB082099', 0.03543707087104486),\n",
       " ('GGOEGBRA037499', -0.0660877925986803),\n",
       " ('GGOEGBRB013899', -0.15499632768746324),\n",
       " ('GGOEGBRJ037299', 0.4001335977813948),\n",
       " ('GGOEGBRJ037399', -0.024825625750764302),\n",
       " ('GGOEGCBB074199', -0.18285629370683593),\n",
       " ('GGOEGCBB074399', -0.15129878958432993),\n",
       " ('GGOEGCBC074299', -0.19553016626298414),\n",
       " ('GGOEGCBQ016499', -0.04379940212384597),\n",
       " ('GGOEGCKQ013199', -0.1955252935707288),\n",
       " ('GGOEGCMB020932', -0.15524761938806025),\n",
       " ('GGOEGCNB021099', -0.06231368361724876),\n",
       " ('GGOEGDHC015299', -0.1694539536585139),\n",
       " ('GGOEGDHC074099', -0.175479037632246),\n",
       " ('GGOEGDHQ015399', 0.10790645714376484),\n",
       " ('GGOEGDHR082199', -0.15379068440371255),\n",
       " ('GGOEGDWR015799', -0.1785020559074611),\n",
       " ('GGOEGEHQ024099', -0.1831437825499012),\n",
       " ('GGOEGEHQ071199', -0.18587736290514884),\n",
       " ('GGOEGEHQ072499', -0.16136772086077156),\n",
       " ('GGOEGEHQ072599', -0.18056612834682453),\n",
       " ('GGOEGESB015099', -0.16748619810273105),\n",
       " ('GGOEGESB015199', 2.2271811939398147),\n",
       " ('GGOEGESC014099', -0.11062350371362537),\n",
       " ('GGOEGESQ016799', 0.0427785938690956),\n",
       " ('GGOEGETB023799', -0.15184972865533408),\n",
       " ('GGOEGEVA022399', -0.13285942573435305),\n",
       " ('GGOEGEVB070599', 0.02998875123727022),\n",
       " ('GGOEGFAQ016699', 0.12383582953673306),\n",
       " ('GGOEGFKA022299', -0.03377937495876708),\n",
       " ('GGOEGFKQ020399', -0.13211207655968976),\n",
       " ('GGOEGFKQ020799', -0.13795855762113948),\n",
       " ('GGOEGFQB013799', -0.1546044240103549),\n",
       " ('GGOEGFSR022099', -0.14620780071594716),\n",
       " ('GGOEGFYQ016599', -0.18056612834682453),\n",
       " ('GGOEGGCX056199', 4.126143430769419),\n",
       " ('GGOEGGCX056299', -0.183590446006641),\n",
       " ('GGOEGGOA017399', -0.15084026924310212),\n",
       " ('GGOEGHPB003410', -0.18745124250362477),\n",
       " ('GGOEGHPB071610', -0.1902213680507875),\n",
       " ('GGOEGHPJ080310', -0.14414275373813262),\n",
       " ('GGOEGHPL003214', -0.10929813142017196),\n",
       " ('GGOEGKAA019299', -0.030336153422332153),\n",
       " ('GGOEGKWQ060910', -0.13802265226542132),\n",
       " ('GGOEGKWR060810', -0.18095594372725204),\n",
       " ('GGOEGOAB021499', -0.17355919688364074),\n",
       " ('GGOEGOAB022499', -0.1481451831566717),\n",
       " ('GGOEGOAQ012899', -0.1479824352353432),\n",
       " ('GGOEGOAQ018099', -0.16544129158623863),\n",
       " ('GGOEGOAQ020099', -0.18670084789630187),\n",
       " ('GGOEGOAR013099', -0.16013005702791433),\n",
       " ('GGOEGOBC078699', -0.16591394273500693),\n",
       " ('GGOEGOBG023599', -0.1566801909111312),\n",
       " ('GGOEGOCB017499', -0.14207402517061407),\n",
       " ('GGOEGOCC077299', -0.14032635288169756),\n",
       " ('GGOEGOCC077999', -0.16500274928325773),\n",
       " ('GGOEGOCD078399', -0.1551053367742042),\n",
       " ('GGOEGOCL077699', -0.12581168547353075),\n",
       " ('GGOEGOCR078499', 0.03170783706495538),\n",
       " ('GGOEGODR017799', -0.1658876301968281),\n",
       " ('GGOEGOFH020299', -0.09643909655832072),\n",
       " ('GGOEGOLC013299', -0.1653730738946638),\n",
       " ('GGOEGOLC014299', -0.17339839803921442),\n",
       " ('GGOEGOXQ016399', -0.11487249136028482),\n",
       " ('GGOEGPJC203399', -0.1955252935707288),\n",
       " ('GGOEGXXX0806', 0.16963751250620926),\n",
       " ('GGOEWAEA083899', -0.17333505303989494),\n",
       " ('GGOEWCKQ085457', 0.08198914844784393),\n",
       " ('GGOEWEBB082699', -0.022359556200335),\n",
       " ('GGOEYDHJ056099', -0.1600952520832333),\n",
       " ('GGOEYFKQ020699', 0.05947313363479569),\n",
       " ('GGOEYHPB072210', 0.49418037468387616),\n",
       " ('GGOEYOCR077799', -0.10014396690313349)]"
      ]
     },
     "execution_count": 517,
     "metadata": {},
     "output_type": "execute_result"
    }
   ],
   "source": [
    "# get the average rating for each item (convert to a dict because you can't map inside a map (for the similarity function))\n",
    "average_ratings = item_rdd.map(calculate_avg)\n",
    "average_ratings_dict = dict(average_ratings.collect())"
   ]
  },
  {
   "cell_type": "code",
   "execution_count": 518,
   "id": "61397508-4247-4f86-ba0c-729754d64429",
   "metadata": {},
   "outputs": [],
   "source": [
    "# target item info\n",
    "item_average = average_ratings.lookup(itemID)[0]\n",
    "item_row = item_rdd.filter(lambda x: x['itemID'] == itemID).collect()[0]"
   ]
  },
  {
   "cell_type": "code",
   "execution_count": 519,
   "id": "f4be66bb-7d0f-4426-ae2b-07414ca51e97",
   "metadata": {},
   "outputs": [],
   "source": [
    "# finds pearson similarity between the target item and a given item\n",
    "def pearson_correlation(row):\n",
    "    global item_row\n",
    "    rowx = item_row\n",
    "    rowy = row\n",
    "\n",
    "    sumProdDiffXY = 0\n",
    "    sumDiffXSquared = 0\n",
    "    sumDiffYSquared = 0\n",
    "    \n",
    "    global average_ratings_dict\n",
    "    global item_average\n",
    "    item_x_average = item_average\n",
    "    item_y_average = average_ratings_dict[str(rowy['itemID'])]\n",
    "    \n",
    "    # go through each user rating\n",
    "    for key in rowx.__fields__:\n",
    "        # only include the user rating if they rated both items\n",
    "        if rowx[key] is not None and rowy[key] is not None and key != 'itemID':\n",
    "            sumProdDiffXY += (float(rowx[key]) - float(item_x_average)) * (float(rowy[key]) - float(item_y_average))\n",
    "            sumDiffXSquared += (float(rowx[key]) - float(item_x_average)) ** 2\n",
    "            sumDiffYSquared += (float(rowy[key]) - float(item_y_average)) ** 2\n",
    "\n",
    "    denominator = math.sqrt(sumDiffXSquared) * math.sqrt(sumDiffYSquared)\n",
    "    if denominator != 0 and str(rowx['itemID']) != str(rowy['itemID']):\n",
    "        similarity = sumProdDiffXY / denominator\n",
    "    else:\n",
    "        similarity = None\n",
    "        \n",
    "    return similarity"
   ]
  },
  {
   "cell_type": "code",
   "execution_count": 520,
   "id": "0d238598-9601-4343-999e-37fac37be70d",
   "metadata": {},
   "outputs": [
    {
     "name": "stdout",
     "output_type": "stream",
     "text": [
      "('GGOEAXXX0808', 0.9992527872658223)\n",
      "('GGOEAXXX0812', -0.17114169392552003)\n",
      "('GGOEGAAX0037', 1.0)\n",
      "('GGOEGAAX0074', 1.0)\n",
      "('GGOEGAAX0105', 0.8732633256060603)\n",
      "('GGOEGAAX0106', 0.18596721025958404)\n",
      "('GGOEGAAX0313', 1.0)\n",
      "('GGOEGAAX0318', -1.0)\n",
      "('GGOEGAAX0320', -1.0)\n",
      "('GGOEGAAX0334', 1.0)\n",
      "('GGOEGAAX0338', -0.9828317292495299)\n",
      "('GGOEGAAX0342', 1.0)\n",
      "('GGOEGAAX0353', 1.0)\n",
      "('GGOEGAAX0358', -1.0)\n",
      "('GGOEGAAX0569', 1.0)\n",
      "('GGOEGAAX0596', 1.0)\n",
      "('GGOEGAAX0617', -1.0)\n",
      "('GGOEGAAX0622', -1.0)\n",
      "('GGOEGAAX0625', -1.0)\n",
      "('GGOEGAAX0651', 1.0)\n",
      "('GGOEGAAX0661', -1.0)\n",
      "('GGOEGAAX0795', 1.0)\n",
      "('GGOEGBCR024399', 1.0)\n",
      "('GGOEGBJC014399', 1.0)\n",
      "('GGOEGBJC019999', -1.0)\n",
      "('GGOEGBJL013999', 0.9845543141883274)\n",
      "('GGOEGBMJ013399', -1.0)\n",
      "('GGOEGBPB021199', 0.12487372792118531)\n",
      "('GGOEGBRA037499', 1.0)\n",
      "('GGOEGBRB013899', -1.0)\n",
      "('GGOEGBRJ037399', 1.0)\n",
      "('GGOEGCBC074299', -1.0)\n",
      "('GGOEGDHQ015399', 1.0)\n",
      "('GGOEGEHQ071199', -1.0)\n",
      "('GGOEGESB015099', -1.0)\n",
      "('GGOEGESB015199', 1.0)\n",
      "('GGOEGESC014099', -0.8387862077632273)\n",
      "('GGOEGESQ016799', 0.9942854239920794)\n",
      "('GGOEGEVB070599', 1.0)\n",
      "('GGOEGFKA022299', 1.0)\n",
      "('GGOEGFKQ020399', 1.0)\n",
      "('GGOEGHPJ080310', 1.0)\n",
      "('GGOEGKWQ060910', -0.27014837881611625)\n",
      "('GGOEGKWR060810', -0.8474044137614352)\n",
      "('GGOEGXXX0806', 0.9910435093822259)\n",
      "('GGOEYHPB072210', 1.0)\n",
      "('GGOEYOCR077799', 1.0)\n"
     ]
    }
   ],
   "source": [
    "# get items by their similarity to the target item\n",
    "# format (itemId, similarity)\n",
    "all_similarities = item_rdd.map(lambda x: (x.itemID, pearson_correlation(x))).filter(lambda x: x[1] is not None)\n",
    "\n",
    "for i in all_similarities.collect():\n",
    "    print(i)   "
   ]
  },
  {
   "cell_type": "code",
   "execution_count": 521,
   "id": "c2b138fe-cbc4-401a-b1db-7a7b0d739643",
   "metadata": {},
   "outputs": [
    {
     "name": "stdout",
     "output_type": "stream",
     "text": [
      "['GGOEAHPA004110', 'GGOEGAAX0104', 'GGOEGAAX0596', 'GGOEGBRA037499']\n"
     ]
    }
   ],
   "source": [
    "# get a list of items the user has rated\n",
    "rated_items = item_rdd.filter(lambda x: x[userID] is not None).map(lambda row: row.itemID).collect()\n",
    "\n",
    "print(rated_items)"
   ]
  },
  {
   "cell_type": "code",
   "execution_count": 522,
   "id": "3c9a2882-6743-4cfe-ae9a-34e768c89e6b",
   "metadata": {},
   "outputs": [
    {
     "name": "stdout",
     "output_type": "stream",
     "text": [
      "('GGOEGAAX0596', 1.0)\n",
      "('GGOEGBRA037499', 1.0)\n"
     ]
    }
   ],
   "source": [
    "# get the N closest values that the user has rated\n",
    "N = 3\n",
    "filtered_similar_items = all_similarities.filter(lambda x: x[0] in rated_items) \\\n",
    "    .sortBy(lambda x: x[1], ascending=False)\n",
    "\n",
    "for i in filtered_similar_items.take(N):\n",
    "    print(i)"
   ]
  },
  {
   "cell_type": "code",
   "execution_count": 523,
   "id": "670a056e-7d72-4d06-a94b-2f45059713bc",
   "metadata": {},
   "outputs": [
    {
     "name": "stdout",
     "output_type": "stream",
     "text": [
      "-0.17200968074644152\n"
     ]
    }
   ],
   "source": [
    "# calculate the similarity using the N closest items\n",
    "\n",
    "sumSR = 0   # similarity of items i and j * user's rating on item j\n",
    "sumS = 0    # similarity of items i and j\n",
    "\n",
    "for item in filtered_similar_items.collect():\n",
    "    item_row = item_rdd.filter(lambda row: row.itemID == item[0]).collect()[0]\n",
    "    S = item[1]\n",
    "    R = item_row[userID]\n",
    "    sumSR += float(S)*float(R)\n",
    "    sumS += float(S)\n",
    "\n",
    "rating = sumSR/sumS\n",
    "\n",
    "print(rating)"
   ]
  },
  {
   "cell_type": "code",
   "execution_count": null,
   "id": "775a8bde-3b7f-4b31-b1a9-743c6eed5d3e",
   "metadata": {},
   "outputs": [],
   "source": []
  }
 ],
 "metadata": {
  "kernelspec": {
   "display_name": "Python 3 (ipykernel)",
   "language": "python",
   "name": "python3"
  },
  "language_info": {
   "codemirror_mode": {
    "name": "ipython",
    "version": 3
   },
   "file_extension": ".py",
   "mimetype": "text/x-python",
   "name": "python",
   "nbconvert_exporter": "python",
   "pygments_lexer": "ipython3",
   "version": "3.11.0"
  }
 },
 "nbformat": 4,
 "nbformat_minor": 5
}
