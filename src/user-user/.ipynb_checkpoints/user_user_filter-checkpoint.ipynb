{
 "cells": [
  {
   "cell_type": "code",
   "execution_count": 146,
   "id": "e4f92c80",
   "metadata": {},
   "outputs": [],
   "source": [
    "from pyspark.sql import SparkSession, functions as F, Window, Row\n",
    "from pyspark.sql.types import StructType, StructField, StringType, IntegerType\n",
    "from pyspark.sql.functions import avg\n",
    "from pyspark.sql import SparkSession\n",
    "from pyspark.sql import functions as F\n",
    "from pyspark.sql.window import Window\n",
    "from pyspark.sql.types import FloatType\n",
    "from itertools import combinations\n",
    "from pyspark.sql import Row\n",
    "\n",
    "import pandas as pd\n",
    "import math\n"
   ]
  },
  {
   "cell_type": "code",
   "execution_count": 147,
   "id": "e856762c",
   "metadata": {},
   "outputs": [],
   "source": [
    "# Initialize Spark session\n",
    "def init_spark():\n",
    "    return SparkSession \\\n",
    "        .builder \\\n",
    "        .appName(\"GA360RECOMMENDER\") \\\n",
    "        .getOrCreate()"
   ]
  },
  {
   "cell_type": "code",
   "execution_count": 148,
   "id": "5b7e1b28",
   "metadata": {},
   "outputs": [],
   "source": [
    "# finds the average of an item row\n",
    "def calculate_avg_user(row):\n",
    "    # Extract values from the row\n",
    "    user_id = row.fullVisitorId\n",
    "    user_ratings = [row[key] for key in row.__fields__ if key != \"fullVisitorId\" and row[key] is not None]\n",
    "\n",
    "    total = 0\n",
    "    if len(user_ratings) > 0:\n",
    "        for r in user_ratings:\n",
    "            total = total + float(r)\n",
    "        avg = total/len(user_ratings)\n",
    "    else:\n",
    "        avg = None\n",
    "        \n",
    "    # Create a new Row with itemId and userAverage\n",
    "    return (user_id, avg)"
   ]
  },
  {
   "cell_type": "code",
   "execution_count": 149,
   "id": "9ceb6409",
   "metadata": {},
   "outputs": [],
   "source": [
    "# get user rating averages\n",
    "def calculate_avg_item(user_df):\n",
    "    averages = user_df.agg(*(avg(col).alias(col) for col in user_df.columns)).rdd\n",
    "    return averages"
   ]
  },
  {
   "cell_type": "code",
   "execution_count": 150,
   "id": "85c9b33d",
   "metadata": {},
   "outputs": [],
   "source": [
    "def total_user_average(user_averages):\n",
    "\n",
    "    values_rdd = user_averages.values()\n",
    "    \n",
    "    total_sum = values_rdd.sum()\n",
    "    count = values_rdd.count()\n",
    "    average = total_sum / count\n",
    "\n",
    "    return average"
   ]
  },
  {
   "cell_type": "code",
   "execution_count": 151,
   "id": "47a07e99",
   "metadata": {},
   "outputs": [],
   "source": [
    "def pearson_correlation(row):\n",
    "    \n",
    "    global user_row\n",
    "    global average_ratings_users_dict\n",
    "    global user_average\n",
    "    \n",
    "    rowx = user_row\n",
    "    rowy = row\n",
    "\n",
    "    sumProdDiffXY = 0\n",
    "    sumDiffXSquared = 0\n",
    "    sumDiffYSquared = 0\n",
    "    \n",
    "    user_x_average = user_average\n",
    "    user_y_average = average_ratings_users_dict[str(rowy['fullVisitorId'])]\n",
    "    \n",
    "    # go through each user rating\n",
    "    for key in rowx.__fields__:\n",
    "        # only include the user rating if they rated both items\n",
    "        if rowx[key] is not None and rowy[key] is not None and key != 'fullVisitorId':\n",
    "            sumProdDiffXY += (float(rowx[key]) - float(user_x_average)) * (float(rowy[key]) - float(user_y_average))\n",
    "            sumDiffXSquared += (float(rowx[key]) - float(user_x_average)) ** 2\n",
    "            sumDiffYSquared += (float(rowy[key]) - float(user_y_average)) ** 2\n",
    "\n",
    "    denominator = math.sqrt(sumDiffXSquared) * math.sqrt(sumDiffYSquared)\n",
    "    if denominator != 0 and str(rowx['fullVisitorId']) != str(rowy['fullVisitorId']):\n",
    "        similarity = sumProdDiffXY / denominator\n",
    "    else:\n",
    "        similarity = None\n",
    "\n",
    "    return similarity"
   ]
  },
  {
   "cell_type": "code",
   "execution_count": 152,
   "id": "5e4661d7",
   "metadata": {},
   "outputs": [],
   "source": [
    "# calculate the rating of an item given its similar items \n",
    "\n",
    "def calculate_rating(userID, itemID, filtered_similar_users, user_rdd, average_ratings_items, average_ratings_users, overall_average):\n",
    "\n",
    "    bx = float(average_ratings_items.collect()[0][itemID]) - overall_average\n",
    "    bi = float(average_ratings_users.lookup(userID)[0]) - overall_average\n",
    "    bxi = overall_average + bx + bi\n",
    "    \n",
    "    sumSR = 0   # (similarity of users i and j) * (user's rating on item j)\n",
    "    sumS = 0    # similarity of items i and j\n",
    "    \n",
    "    \n",
    "    for user in filtered_similar_users:\n",
    "        user_row = user_rdd.filter(lambda row: row['fullVisitorId'] == user[0]).collect()[0]\n",
    "\n",
    "        S = user[1]\n",
    "        R = user_row[itemID]\n",
    "      \n",
    "        bj = float(average_ratings_users.lookup(user[0])[0]) - overall_average\n",
    "        \n",
    "        if R is not None: \n",
    "            R = float(R)\n",
    "            bxy = overall_average + bx + bj\n",
    "            sumSR += float(S)*float(R-bj)\n",
    "            sumS += float(S)              \n",
    "            \n",
    "    rating = bxi + sumSR/sumS\n",
    "\n",
    "    return rating"
   ]
  },
  {
   "cell_type": "code",
   "execution_count": 156,
   "id": "458f98eb",
   "metadata": {},
   "outputs": [],
   "source": [
    "def user_user_filter(user_df,userID, itemID):\n",
    "    \n",
    "    global average_ratings_users_dict\n",
    "    global user_average\n",
    "    global user_row\n",
    "    \n",
    "    user_rdd = user_df.rdd\n",
    "    \n",
    "     # get the average rating for each user\n",
    "    average_ratings_users = user_rdd.map(calculate_avg_user)\n",
    "    average_ratings_users_dict = dict(average_ratings_users.collect())\n",
    "   \n",
    "    \n",
    "     # get the average rating for each item\n",
    "    average_ratings_items = calculate_avg_item(user_df)\n",
    "\n",
    "    \n",
    "    # get the total user average\n",
    "    overall_average = total_user_average(average_ratings_users)         \n",
    "    \n",
    "     # target user info\n",
    "    user_average = average_ratings_users.lookup(userID)[0]\n",
    "    user_row = user_rdd.filter(lambda x: x['fullVisitorId'] == userID).collect()[0]\n",
    "\n",
    "\n",
    "    all_similarities = user_rdd.map(lambda x: (x['fullVisitorId'], pearson_correlation(x))).filter(lambda x: x[1] is not None)\n",
    "\n",
    "    \n",
    "    # get a list of users that rated the item \n",
    "    rated_users = user_rdd.filter(lambda x: any(val is not None for val in x if val != 'fullVisitorId'))\n",
    "\n",
    "\n",
    "    rated_users= rated_users.map(lambda row: row['fullVisitorId']).collect()\n",
    "\n",
    "    N = 5\n",
    "    filtered_similar_users = all_similarities.filter(lambda x: x[0] in rated_users).sortBy(lambda x: x[1], ascending=False).take(N)\n",
    "    \n",
    "    rating = calculate_rating(userID, itemID, filtered_similar_users, user_rdd, average_ratings_items, average_ratings_users, overall_average)\n",
    "\n",
    "    return rating"
   ]
  },
  {
   "cell_type": "code",
   "execution_count": 160,
   "id": "6f6ca25c",
   "metadata": {},
   "outputs": [
    {
     "name": "stdout",
     "output_type": "stream",
     "text": [
      "-0.24903050493580953\n"
     ]
    }
   ],
   "source": [
    "# get the utility matrix\n",
    "spark = init_spark()\n",
    "user_df = spark.read.csv(\"../../data/utility.csv\", header=True)\n",
    "\n",
    "rating = user_user_filter(user_df, '1589021726696497303', 'GGOEGBRA037499')\n",
    "print(rating)"
   ]
  },
  {
   "cell_type": "code",
   "execution_count": null,
   "id": "89ec7686",
   "metadata": {},
   "outputs": [],
   "source": []
  }
 ],
 "metadata": {
  "kernelspec": {
   "display_name": "Python 3 (ipykernel)",
   "language": "python",
   "name": "python3"
  },
  "language_info": {
   "codemirror_mode": {
    "name": "ipython",
    "version": 3
   },
   "file_extension": ".py",
   "mimetype": "text/x-python",
   "name": "python",
   "nbconvert_exporter": "python",
   "pygments_lexer": "ipython3",
   "version": "3.11.1"
  }
 },
 "nbformat": 4,
 "nbformat_minor": 5
}
